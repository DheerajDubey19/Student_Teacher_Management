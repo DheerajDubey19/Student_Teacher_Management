{
 "cells": [
  {
   "cell_type": "code",
   "execution_count": 96,
   "metadata": {},
   "outputs": [],
   "source": [
    "from pydantic import BaseModel\n",
    "import dataclasses\n",
    "from typing import List\n",
    "from pydantic import (\n",
    "    BaseModel,\n",
    "    Field,\n",
    "    ValidationError,\n",
    "    # ValidationInfo,\n",
    "    field_validator,\n",
    ")\n",
    "from enum import Enum"
   ]
  },
  {
   "cell_type": "code",
   "execution_count": 93,
   "metadata": {},
   "outputs": [],
   "source": [
    "class Gender(str, Enum):\n",
    "    MALE = 'male'\n",
    "    FEMALE = 'female'\n",
    "    OTHER = 'other'\n",
    "\n",
    "@dataclasses.dataclass\n",
    "class Subject:\n",
    "    subjects: List[str]\n",
    "\n",
    "\n",
    "class UserModel(BaseModel):\n",
    "    id: int\n",
    "    name: str\n",
    "    age: int\n",
    "    address: str = Field(..., min_length = 10, max_length = 50)\n",
    "    subject: Subject\n",
    "    sex: Gender\n",
    "\n",
    "    @field_validator('address')\n",
    "    # @classmethod\n",
    "    def check_alphanumeric(cls, v: str, info: ValidationInfo) -> str:\n",
    "        if isinstance(v, str):\n",
    "            is_alphanumeric = v.replace(' ', '').isalnum()\n",
    "            assert is_alphanumeric, f'{info.field_name} must be alphanumeric'\n",
    "        return v\n",
    "\n",
    "    @field_validator('age')\n",
    "    @classmethod\n",
    "    def name_must_contain_space(cls, v: int) -> int:\n",
    "        if v<18:\n",
    "            raise ValueError('You are not eligible as your age is less than 18')\n",
    "        return v\n",
    "    \n",
    "   "
   ]
  },
  {
   "cell_type": "code",
   "execution_count": 95,
   "metadata": {},
   "outputs": [
    {
     "name": "stdout",
     "output_type": "stream",
     "text": [
      "{\"id\":1,\"name\":\"samuel doe\",\"age\":19,\"address\":\"aq5665556wsde\",\"subject\":{\"subjects\":[\"English\"]},\"role\":\"student\"}\n"
     ]
    }
   ],
   "source": [
    "try:\n",
    "    subjects = Subject(subjects = ['English'])\n",
    "    user = UserModel(id=1 , name='samuel doe', age=19, address = 'aq5665556wsde', subject= subjects , sex = Gender.MALE).model_dump_json()\n",
    "    print(user)\n",
    "except ValidationError as e:\n",
    "    print(e)"
   ]
  },
  {
   "cell_type": "code",
   "execution_count": null,
   "metadata": {},
   "outputs": [],
   "source": []
  },
  {
   "cell_type": "code",
   "execution_count": null,
   "metadata": {},
   "outputs": [],
   "source": []
  },
  {
   "cell_type": "code",
   "execution_count": null,
   "metadata": {},
   "outputs": [],
   "source": []
  }
 ],
 "metadata": {
  "kernelspec": {
   "display_name": "Python 3",
   "language": "python",
   "name": "python3"
  },
  "language_info": {
   "codemirror_mode": {
    "name": "ipython",
    "version": 3
   },
   "file_extension": ".py",
   "mimetype": "text/x-python",
   "name": "python",
   "nbconvert_exporter": "python",
   "pygments_lexer": "ipython3",
   "version": "3.12.0"
  }
 },
 "nbformat": 4,
 "nbformat_minor": 2
}
